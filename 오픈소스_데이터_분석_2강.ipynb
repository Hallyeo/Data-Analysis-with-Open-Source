{
  "cells": [
    {
      "cell_type": "markdown",
      "metadata": {
        "id": "view-in-github",
        "colab_type": "text"
      },
      "source": [
        "<a href=\"https://colab.research.google.com/github/Hallyeo/Data-Analysis-with-Open-Source/blob/main/%EC%98%A4%ED%94%88%EC%86%8C%EC%8A%A4_%EB%8D%B0%EC%9D%B4%ED%84%B0_%EB%B6%84%EC%84%9D_2%EA%B0%95.ipynb\" target=\"_parent\"><img src=\"https://colab.research.google.com/assets/colab-badge.svg\" alt=\"Open In Colab\"/></a>"
      ]
    },
    {
      "cell_type": "markdown",
      "metadata": {
        "id": "DkPKaAsoRq5Q"
      },
      "source": [
        "\n",
        "\n",
        "# 오픈소스 기반 데이터 분석 2강 - 데이터 분석을 위한 파이썬 1\n"
      ]
    },
    {
      "cell_type": "markdown",
      "metadata": {
        "id": "-I7BVVlnRrB0"
      },
      "source": [
        "## 2-1 리스트 슬라이싱"
      ]
    },
    {
      "cell_type": "code",
      "execution_count": 3,
      "metadata": {
        "id": "2Y2HEiaiRwAI",
        "colab": {
          "base_uri": "https://localhost:8080/"
        },
        "outputId": "683f2307-e627-44ad-9865-545525112296"
      },
      "outputs": [
        {
          "output_type": "stream",
          "name": "stdout",
          "text": [
            "[10, 20, 30, 40]\n",
            "[50, 60, 70]\n"
          ]
        }
      ],
      "source": [
        "numbers = [10, 20, 30, 40, 50, 60, 70]\n",
        "# 첫 4개의 원소 출력\n",
        "first_four = numbers[: 4]\n",
        "print(first_four)\n",
        "# 뒤 3개의 원소를 출력\n",
        "last_three = numbers[-3:]\n",
        "print(last_three)"
      ]
    },
    {
      "cell_type": "code",
      "execution_count": 5,
      "metadata": {
        "id": "IO8bsKekR0W_",
        "colab": {
          "base_uri": "https://localhost:8080/"
        },
        "outputId": "dea63976-0115-4c91-f531-8bc78bb056c6"
      },
      "outputs": [
        {
          "output_type": "stream",
          "name": "stdout",
          "text": [
            "[10, 30, 50, 70]\n",
            "[70, 60, 50, 40, 30, 20, 10]\n"
          ]
        }
      ],
      "source": [
        "numbers = [10, 20, 30, 40, 50, 60, 70]\n",
        "\n",
        "# 홀수번째 항목 출력\n",
        "every_other_list = numbers[::2]\n",
        "print(every_other_list)\n",
        "\n",
        "# 역순 출력\n",
        "reverse_list = numbers[::-1]\n",
        "print(reverse_list)"
      ]
    },
    {
      "cell_type": "code",
      "execution_count": 9,
      "metadata": {
        "id": "60qOf7uxVdAg",
        "colab": {
          "base_uri": "https://localhost:8080/"
        },
        "outputId": "9a7ec643-0aa7-4d97-da45-e6d09167e6a4"
      },
      "outputs": [
        {
          "output_type": "stream",
          "name": "stdout",
          "text": [
            "[[1, 2, 3, 4], [5, 6, 7, 8]]\n",
            "[[1, 2], [5, 6], [9, 10], [13, 14]]\n"
          ]
        }
      ],
      "source": [
        "matrix = [\n",
        "    [1, 2, 3, 4],\n",
        "    [5, 6, 7, 8],\n",
        "    [9, 10, 11, 12],\n",
        "    [13, 14, 15, 16]\n",
        "]\n",
        "\n",
        "# 첫 두 행 출력\n",
        "first_two_rows = matrix[:2]\n",
        "\n",
        "print(first_two_rows)\n",
        "\n",
        "# 첫 두 열 출력\n",
        "\n",
        "first_two_columns = [row[0:2] for row in matrix]\n",
        "print(first_two_columns)"
      ]
    },
    {
      "cell_type": "markdown",
      "metadata": {
        "id": "eOMufu5SXiAU"
      },
      "source": [
        "## 2-2 리스트 컴프리헨션"
      ]
    },
    {
      "cell_type": "code",
      "execution_count": 12,
      "metadata": {
        "id": "JpmgdsW9V0CY",
        "colab": {
          "base_uri": "https://localhost:8080/"
        },
        "outputId": "e9cf3262-fe07-42c7-8337-77743448734f"
      },
      "outputs": [
        {
          "output_type": "stream",
          "name": "stdout",
          "text": [
            "[1, 2, 3, 4, 5]\n"
          ]
        }
      ],
      "source": [
        "numbers = [i + 1 for i in range(5)]\n",
        "\n",
        "# 1 ~ 5 포함 리스트 생성\n",
        "# for i in range(5):\n",
        "#     numbers.append(i)\n",
        "\n",
        "print(numbers)"
      ]
    },
    {
      "cell_type": "code",
      "execution_count": 13,
      "metadata": {
        "id": "cRC8x3_iW0im",
        "colab": {
          "base_uri": "https://localhost:8080/"
        },
        "outputId": "5f834ffa-6845-484f-f763-b80ef7f9cc06"
      },
      "outputs": [
        {
          "output_type": "stream",
          "name": "stdout",
          "text": [
            "[1, 4, 9, 16, 25]\n"
          ]
        }
      ],
      "source": [
        "numbers = [1, 2, 3, 4, 5]\n",
        "squares = [i ** 2 for i in numbers ]\n",
        "\n",
        "# numbers의 모든 항목의 값을 제곱한 리스트\n",
        "# for num in numbers:\n",
        "#   squares.append(num ** 2)\n",
        "\n",
        "print(squares)"
      ]
    },
    {
      "cell_type": "code",
      "execution_count": 15,
      "metadata": {
        "id": "MAvimjk6Fqlc",
        "colab": {
          "base_uri": "https://localhost:8080/"
        },
        "outputId": "84b6064b-c4f6-4213-b047-ee3fb0c80542"
      },
      "outputs": [
        {
          "output_type": "stream",
          "name": "stdout",
          "text": [
            "[2, 4, 6, 8, 10]\n"
          ]
        }
      ],
      "source": [
        "numbers = [1, 2, 3, 4, 5, 6, 7, 8, 9, 10]\n",
        "even_numbers = [num for num in numbers if num % 2 == 0 ]\n",
        "\n",
        "# 짝수만 추출한 리스트\n",
        "# for num in numbers:\n",
        "#     if num % 2 == 0:\n",
        "#         even_numbers.append(num)\n",
        "\n",
        "print(even_numbers)"
      ]
    },
    {
      "cell_type": "code",
      "execution_count": 21,
      "metadata": {
        "id": "HGO8XTxBFqld",
        "colab": {
          "base_uri": "https://localhost:8080/"
        },
        "outputId": "dc0037d4-7e1f-4f52-9e71-a902785a5ebb"
      },
      "outputs": [
        {
          "output_type": "stream",
          "name": "stdout",
          "text": [
            "[('사과', '주스'), ('사과', '잼'), ('사과', '통조림'), ('복숭아', '주스'), ('복숭아', '잼'), ('복숭아', '통조림'), ('바나나', '주스'), ('바나나', '잼'), ('바나나', '통조림'), ('사과', '주스'), ('사과', '잼'), ('사과', '통조림'), ('복숭아', '주스'), ('복숭아', '잼'), ('복숭아', '통조림'), ('바나나', '주스'), ('바나나', '잼'), ('바나나', '통조림')]\n"
          ]
        }
      ],
      "source": [
        "list1 = ['사과', '복숭아', '바나나']\n",
        "list2 = ['주스', '잼', '통조림']\n",
        "pairs = [(fruit, product) for fruit in list1 for product in list2]\n",
        "\n",
        "# 두 리스트에 포함되 모든 원소를 조합한 투플의 리스트 생성\n",
        "for fruit in list1:\n",
        "    for product in list2:\n",
        "        pairs.append((fruit, product))\n",
        "\n",
        "print(pairs)"
      ]
    },
    {
      "cell_type": "code",
      "execution_count": 23,
      "metadata": {
        "id": "K-BPhFTUFqle",
        "colab": {
          "base_uri": "https://localhost:8080/"
        },
        "outputId": "a1cc8c90-6758-42c1-845d-c3f09ceb954b"
      },
      "outputs": [
        {
          "output_type": "stream",
          "name": "stdout",
          "text": [
            "{0: 0, 1: 1, 2: 4, 3: 9, 4: 16}\n"
          ]
        }
      ],
      "source": [
        "squares = { }\n",
        "\n",
        "# 딕셔너리 생성\n",
        "# for i in range(5):\n",
        "#     squares[i] = i ** 2\n",
        "squares = {i: i **2 for i in range(5)}\n",
        "print(squares)"
      ]
    },
    {
      "cell_type": "code",
      "execution_count": 31,
      "metadata": {
        "id": "UoTcC8-GFqlf",
        "colab": {
          "base_uri": "https://localhost:8080/"
        },
        "outputId": "960927eb-83e5-4d6d-9d7e-6e7ebba57059"
      },
      "outputs": [
        {
          "output_type": "stream",
          "name": "stdout",
          "text": [
            "{'서울': 957, '부산': 339, '인천': 294, '대구': 242}\n",
            "{'부산': 339}\n"
          ]
        }
      ],
      "source": [
        "city_population = {\n",
        "    '서울': 957, '부산': 339, '인천': 294, '대구': 242, '광주': 145, '대전': 147,\n",
        "    '울산': 114, '세종': 36, '수원': 115, '창원': 103, '고양': 105, '용인': 108, '성남': 94\n",
        "}\n",
        "\n",
        "# 인구 200만명 이상의 도시 리스트\n",
        "large_cities = {city: pop for city, pop in city_population.items() if pop >= 200}\n",
        "print(large_cities)\n",
        "\n",
        "# 인구 300만 이상 및 이름에 '산'이 포함된 도시 리스트\n",
        "large_short_name_cities = {city: pop for city, pop in city_population.items() if pop >= 300 and '산' in city}\n",
        "print(large_short_name_cities)"
      ]
    },
    {
      "cell_type": "markdown",
      "metadata": {
        "id": "njDOfr1LFqlf"
      },
      "source": [
        "## 2-3 문자열 형식화"
      ]
    },
    {
      "cell_type": "code",
      "execution_count": 32,
      "metadata": {
        "id": "fzO0h6KfFqlg",
        "colab": {
          "base_uri": "https://localhost:8080/"
        },
        "outputId": "40abf0ed-058f-421e-9b5b-eb6bfa8a6f63"
      },
      "outputs": [
        {
          "output_type": "stream",
          "name": "stdout",
          "text": [
            "이름: 홍길동, 나이: 30.000000, 월금: 3500000원\n"
          ]
        }
      ],
      "source": [
        "name = '홍길동'\n",
        "age = 30\n",
        "salary = 3500000\n",
        "tax_rate = 0.1\n",
        "\n",
        "# C 스타일 문자열 포매팅\n",
        "# 이름, 나이, 월급 출력\n",
        "basic_format = '이름: %s, 나이: %d, 월금: %d원' % (name, age, salary)\n",
        "# 직원이름, 나이, 세후 월급 출력\n",
        "\n",
        "\n",
        "# 직원이름, 나이, 월급, 세금, 실수령액 추력\n",
        "\n",
        "\n",
        "print(basic_format)\n"
      ]
    },
    {
      "cell_type": "code",
      "source": [
        "name = '홍길동'\n",
        "age = 30\n",
        "salary = 3500000\n",
        "tax_rate = 0.1\n",
        "\n",
        "# str.format 문자열 포매팅\n",
        "# 이름, 나이, 월급 출력\n",
        "basic_format = '이름: {0}, 나이: {1}, 월금: {2}원'.format(name, age, salary)\n",
        "# 직원이름, 나이, 세후 월급 출력\n",
        "\n",
        "# 직원이름, 나이, 월급, 세금, 실수령액 추력\n",
        "\n",
        "print(basic_format)\n"
      ],
      "metadata": {
        "id": "cIvmmcQux_ph",
        "colab": {
          "base_uri": "https://localhost:8080/"
        },
        "outputId": "6875c793-2033-42d3-af68-efa52e2f6953"
      },
      "execution_count": 36,
      "outputs": [
        {
          "output_type": "stream",
          "name": "stdout",
          "text": [
            "이름: 홍길동, 나이: 30, 월금: 3500000원\n"
          ]
        }
      ]
    },
    {
      "cell_type": "code",
      "source": [
        "name = '홍길동'\n",
        "age = 30\n",
        "salary = 3500000\n",
        "tax_rate = 0.1\n",
        "\n",
        "# f-문자열 포매팅\n",
        "# 이름, 나이, 월급 출력\n",
        "basic_format = F'이름: {name}, 나이: {age}, 월금: {salary}원'\n",
        "# 직원이름, 나이, 세후 월급 출력\n",
        "\n",
        "# 직원이름, 나이, 월급, 세금, 실수령액 추력\n",
        "\n",
        "\n",
        "print(basic_format)\n"
      ],
      "metadata": {
        "id": "EIO3z-XQx_ce",
        "colab": {
          "base_uri": "https://localhost:8080/"
        },
        "outputId": "c8d478c8-2e9b-4ec1-9f6d-0a416b2eea5b"
      },
      "execution_count": 38,
      "outputs": [
        {
          "output_type": "stream",
          "name": "stdout",
          "text": [
            "이름: 홍길동, 나이: 30, 월금: 3500000원\n"
          ]
        }
      ]
    },
    {
      "cell_type": "markdown",
      "metadata": {
        "id": "6lnhCleJFqlg"
      },
      "source": [
        "## 2-4 컨텍스트 관리"
      ]
    },
    {
      "cell_type": "code",
      "execution_count": 41,
      "metadata": {
        "id": "eFpmQp3QFqlh"
      },
      "outputs": [],
      "source": [
        "# 파일 오픈 & 클로즈\n",
        "with open('output.txt', 'w') as file_write:\n",
        "    file_write.write('Hello, world!\\n')"
      ]
    },
    {
      "cell_type": "code",
      "execution_count": 44,
      "metadata": {
        "id": "D0aOLti0Fqlh",
        "colab": {
          "base_uri": "https://localhost:8080/"
        },
        "outputId": "f54058c7-26cf-4f46-a550-53716838b8e5"
      },
      "outputs": [
        {
          "output_type": "stream",
          "name": "stdout",
          "text": [
            "파일 복사가 완료되었습니다. 'input.txt' 내용이 'output_copy.txt'에 저장되었습니다.\n"
          ]
        }
      ],
      "source": [
        "# 복수개의 파일(읽기 & 쓰기) 관리\n",
        "with open('input.txt', 'w') as f_in_setup:\n",
        "    f_in_setup.write('This is the first line.\\n')\n",
        "    f_in_setup.write('And this is the second line.')\n",
        "\n",
        "# 하나의 with 문으로 여러 파일을 관리하며, 블록 종료 시 두 파일 모두 자동으로 닫힙니다.\n",
        "with open('input.txt', 'r') as file_read, \\\n",
        "     open('output_copy.txt', 'w') as file_write:\n",
        "\n",
        "    content = file_read.read()  # input.txt의 내용을 읽습니다.\n",
        "    file_write.write(content)   # 읽은 내용을 output_copy.txt에 씁니다.\n",
        "\n",
        "print(\"파일 복사가 완료되었습니다. 'input.txt' 내용이 'output_copy.txt'에 저장되었습니다.\")\n"
      ]
    },
    {
      "cell_type": "code",
      "execution_count": 45,
      "metadata": {
        "id": "6SE0rrD5Fqli",
        "colab": {
          "base_uri": "https://localhost:8080/"
        },
        "outputId": "31c521f9-93be-4494-e6a2-6bfcdef797f2"
      },
      "outputs": [
        {
          "output_type": "stream",
          "name": "stdout",
          "text": [
            "학번,이름,데이터베이스,파이썬,클라우드\n",
            "101,김철수,85,78,92\n",
            "102,이영희,76,82,78\n",
            "103,박지민,92,95,85\n",
            "104,최준서,63,70,75\n",
            "105,정미나,88,84,91\n",
            "\n"
          ]
        }
      ],
      "source": [
        "import urllib.request\n",
        "\n",
        "# URL 연결 관리\n",
        "with urllib.request.urlopen('https://raw.githubusercontent.com/jaehwachung/Data-Analysis-with-Open-Source/refs/heads/main/Chapter%203/students.csv') as response:\n",
        "    data = response.read( ).decode('utf-8')\n",
        "\n",
        "print(data)"
      ]
    }
  ],
  "metadata": {
    "colab": {
      "provenance": [],
      "include_colab_link": true
    },
    "kernelspec": {
      "display_name": "Python 3",
      "name": "python3"
    },
    "language_info": {
      "name": "python"
    }
  },
  "nbformat": 4,
  "nbformat_minor": 0
}